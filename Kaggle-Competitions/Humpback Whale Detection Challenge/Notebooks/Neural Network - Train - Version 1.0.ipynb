{
  "cells": [
    {
      "metadata": {
        "_uuid": "8f2839f25d086af736a60e9eeb907d3b93b6e0e5",
        "_cell_guid": "b1076dfc-b9ad-4769-8c92-a6c4dae69d19",
        "trusted": true
      },
      "cell_type": "code",
      "source": "# This Python 3 environment comes with many helpful analytics libraries installed\n# It is defined by the kaggle/python docker image: https://github.com/kaggle/docker-python\n# For example, here's several helpful packages to load in \n\nimport numpy as np # linear algebra\nimport pandas as pd # data processing, CSV file I/O (e.g. pd.read_csv)\n\n# Input data files are available in the \"../input/\" directory.\n# For example, running this (by clicking run or pressing Shift+Enter) will list the files in the input directory\n\nimport os\nprint(os.listdir(\"../input\"))\n\nimport matplotlib.image as mpimg\n\n# import module we'll need to import our custom module\nimport shutil\n\n# import all the custom modules in the libraries-file directory \ndest = \"../working/\"\nlib_folder = \"../input/libraries-file/\"\nsrc_files = os.listdir(lib_folder)\nfor file_name in src_files:\n    full_file_name = os.path.join(lib_folder, file_name)\n    if (os.path.isfile(full_file_name)):\n        shutil.copy(full_file_name, dest)\n",
      "execution_count": 1,
      "outputs": [
        {
          "output_type": "stream",
          "text": "['libraries-file', 'infofiles', 'full-keras-pretrained-no-top', 'humpback-whale-identification']\n",
          "name": "stdout"
        }
      ]
    },
    {
      "metadata": {
        "trusted": true,
        "_uuid": "876b3f7cb0692a041d8bb073523f445523ce5ae0"
      },
      "cell_type": "code",
      "source": "file = pd.read_csv('../input/humpback-whale-identification/train.csv')",
      "execution_count": 2,
      "outputs": []
    },
    {
      "metadata": {
        "trusted": true,
        "_uuid": "193db9eb8553ce11122b151036df671b02e9b8a8"
      },
      "cell_type": "code",
      "source": "import exploratory_analysis\nimport matplotlib.pyplot as plt\nimport matplotlib.image as mpimg\nimport trained_model as tm\nimport label_processor as lp\nimport image_processing as ip\nimport keras",
      "execution_count": 3,
      "outputs": [
        {
          "output_type": "stream",
          "text": "Using TensorFlow backend.\n",
          "name": "stderr"
        }
      ]
    },
    {
      "metadata": {
        "trusted": true,
        "_uuid": "2c6ede85d0801adaed3367f06ab6d5a396539136"
      },
      "cell_type": "code",
      "source": "from keras.layers import Activation\nfrom keras.layers import Lambda\nfrom keras.layers import Conv2D\nfrom keras.layers import Add, UpSampling2D\nfrom keras.layers import MaxPooling2D\nfrom keras.layers import AveragePooling2D\nfrom keras.layers import ZeroPadding2D\nfrom keras.layers import Input, Dense, Flatten\nfrom keras.layers import Dropout, Concatenate\nfrom keras.layers import BatchNormalization\nfrom keras.models import Model",
      "execution_count": 4,
      "outputs": []
    },
    {
      "metadata": {
        "_uuid": "29b6898e56f077efeedaf7086dae0bd13361d5a2"
      },
      "cell_type": "markdown",
      "source": "**For Neural Network**"
    },
    {
      "metadata": {
        "_uuid": "37d9bcf43ffbcd3d95e4506447fb31a9c93b233c"
      },
      "cell_type": "markdown",
      "source": "Convert the data frame to a dictionary - to find the Id for the corresponding filename quickly"
    },
    {
      "metadata": {
        "trusted": true,
        "_uuid": "973a5756b5a372700878870a3d762f8c3b3d04fb"
      },
      "cell_type": "code",
      "source": "file_dict = dict(zip(file.Image,file.Id))",
      "execution_count": 5,
      "outputs": []
    },
    {
      "metadata": {
        "_uuid": "bc92e6c59d4d03076e69362093e54ca4bdc2490c"
      },
      "cell_type": "markdown",
      "source": "Create a dictionary with the Id as the key and the list [number_of_images_belong_to_that_ID, Index_assigned]"
    },
    {
      "metadata": {
        "trusted": true,
        "_uuid": "1ac2c922ea2acda7dc923836b69db7a7835194cf"
      },
      "cell_type": "code",
      "source": "dict_unique_Ids = exploratory_analysis.find_uniq_values_counts(file, 'Id')",
      "execution_count": 6,
      "outputs": []
    },
    {
      "metadata": {
        "trusted": true,
        "_uuid": "837904b3610bb3848256cf47e08807d4e051b5bb"
      },
      "cell_type": "code",
      "source": "def network(pretrained_model_name, input_shape,output_shape):\n    inp = Input(shape = input_shape)\n    x = Lambda(lambda x:x)(inp)\n    x = tm.pretrained_model(x,pretrained_model_name,(224,224,3)).output\n    x = Flatten(name='Flatten')(x)\n    x = Dense(10000, name = 'Fully_Connected', activation = 'relu')(x)\n    x = BatchNormalization()(x)\n    x = Dense(output_shape[1], activation = 'softmax')(x)\n    \n    model = Model(input = inp, output = x)\n    \n    return model",
      "execution_count": 7,
      "outputs": []
    },
    {
      "metadata": {
        "trusted": true,
        "_uuid": "49749cc8242f1b683e544cf11e7bd2ca615355be"
      },
      "cell_type": "code",
      "source": "model = network('VGG16',(224,224,3),(1,5005))",
      "execution_count": 8,
      "outputs": [
        {
          "output_type": "stream",
          "text": "/opt/conda/lib/python3.6/site-packages/ipykernel_launcher.py:10: UserWarning: Update your `Model` call to the Keras 2 API: `Model(inputs=Tensor(\"in..., outputs=Tensor(\"de...)`\n  # Remove the CWD from sys.path while we load stuff.\n",
          "name": "stderr"
        }
      ]
    },
    {
      "metadata": {
        "trusted": true,
        "_uuid": "bbd2553882b8796bb0d62d84f2dad00551ba38b5"
      },
      "cell_type": "code",
      "source": "def generator_from_file():\n    counter = 0\n    for index in range(len(file['Image'])):\n\n        image_name = file['Image'][index]\n        path = '../input/humpback-whale-identification/train/'\n        \n        # Image reading and processing\n        x = ip.conversion_resize_generator(color_conversion='Gray2RGB', filename_with_path=path+image_name, height=224, resize_='True',width=224)\n                \n        # Label creation and processing\n        array_index = dict_unique_Ids[file_dict[image_name]][0]\n        y = lp.label_generator(index=array_index,num_of_classes=5005)\n        \n        yield ([x],[y])",
      "execution_count": 9,
      "outputs": []
    },
    {
      "metadata": {
        "trusted": true,
        "_uuid": "058ccb6f2f4fbe466614e4ada3a4e33f12596282",
        "scrolled": true
      },
      "cell_type": "code",
      "source": "optim=keras.optimizers.Adadelta(lr=0.8, rho=0.95, epsilon=None, decay=0.0)\nmodel.compile(loss='binary_crossentropy', optimizer='sgd', metrics = ['accuracy'])\nimport tensorflow as tf\nsteps_per_epoch = 100\nwith tf.device(\"/gpu:0\"):\n    model.fit_generator(\n            generator_from_file(), steps_per_epoch=steps_per_epoch, shuffle=True, \n            epochs=30)",
      "execution_count": null,
      "outputs": []
    },
    {
      "metadata": {
        "_uuid": "ac0604cc2c7b93ba7eaa7afed4e11351a32d5fef"
      },
      "cell_type": "markdown",
      "source": "Trial"
    }
  ],
  "metadata": {
    "kernelspec": {
      "display_name": "Python 3",
      "language": "python",
      "name": "python3"
    },
    "language_info": {
      "name": "python",
      "version": "3.6.6",
      "mimetype": "text/x-python",
      "codemirror_mode": {
        "name": "ipython",
        "version": 3
      },
      "pygments_lexer": "ipython3",
      "nbconvert_exporter": "python",
      "file_extension": ".py"
    }
  },
  "nbformat": 4,
  "nbformat_minor": 1
}