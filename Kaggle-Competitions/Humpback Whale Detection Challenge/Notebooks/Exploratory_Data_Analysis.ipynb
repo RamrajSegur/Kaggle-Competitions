{
  "cells": [
    {
      "metadata": {
        "_uuid": "8f2839f25d086af736a60e9eeb907d3b93b6e0e5",
        "_cell_guid": "b1076dfc-b9ad-4769-8c92-a6c4dae69d19",
        "trusted": true
      },
      "cell_type": "code",
      "source": "# This Python 3 environment comes with many helpful analytics libraries installed\n# It is defined by the kaggle/python docker image: https://github.com/kaggle/docker-python\n# For example, here's several helpful packages to load in \n\nimport numpy as np # linear algebra\nimport pandas as pd # data processing, CSV file I/O (e.g. pd.read_csv)\n\n# Input data files are available in the \"../input/\" directory.\n# For example, running this (by clicking run or pressing Shift+Enter) will list the files in the input directory\n\nimport os\nprint(os.listdir(\"../input\"))\n\nimport matplotlib.image as mpimg\n\n# import module we'll need to import our custom module\nfrom shutil import copyfile\n\n# copy our file into the working directory (make sure it has .py suffix)\ncopyfile(src = \"../input/libraries-file/exploratory_analysis.py\", dst = \"../working/exploratory_analysis.py\")\n\nimport exploratory_analysis\nimport matplotlib.pyplot as plt\nimport matplotlib.image as mpimg\n# Any results you write to the current directory are saved as output.",
      "execution_count": null,
      "outputs": []
    },
    {
      "metadata": {
        "_cell_guid": "79c7e3d0-c299-4dcb-8224-4455121ee9b0",
        "_uuid": "d629ff2d2480ee46fbb7e2d37f6b5fab8052498a",
        "trusted": true
      },
      "cell_type": "code",
      "source": "file = pd.read_csv('../input/humpback-whale-identification/train.csv')",
      "execution_count": null,
      "outputs": []
    },
    {
      "metadata": {
        "trusted": true,
        "_uuid": "e9e7d3fc54f1694e4d227deefc4ce6ab407ebf6c"
      },
      "cell_type": "code",
      "source": "exploratory_analysis.description(file)",
      "execution_count": null,
      "outputs": []
    },
    {
      "metadata": {
        "trusted": true,
        "_uuid": "c03b6c7261b45296ed99fea93479f23e6cb5ca03"
      },
      "cell_type": "code",
      "source": "column = 'Id'\nclass_count = exploratory_analysis.class_frequency_count(file,column)\nexploratory_analysis.class_count_plot(class_count)",
      "execution_count": null,
      "outputs": []
    },
    {
      "metadata": {
        "trusted": true,
        "_uuid": "7dacc85b6a2a631a18999ab3665e8b715f9f07ee"
      },
      "cell_type": "code",
      "source": "# Get the Label ID of the highest occuring class\nfilename_more_instance = class_count.index[1]",
      "execution_count": null,
      "outputs": []
    },
    {
      "metadata": {
        "trusted": true,
        "_uuid": "73e3e1c6c39a31f3c0140c0a51cb0a32f9539367"
      },
      "cell_type": "code",
      "source": "# Find the first ten image filenames of the particular class\nlist_of_ten_filenames_of_prominent_class = exploratory_analysis.first_ten_image_filenames_of_given_id(file, filename_more_instance, 'Id')",
      "execution_count": null,
      "outputs": []
    },
    {
      "metadata": {
        "trusted": true,
        "_uuid": "51964de4c1b63ee35e045c9f28f75aa2907b7b96"
      },
      "cell_type": "code",
      "source": "exploratory_analysis.image_subplot_from_list_filenames_and_dir(list_of_ten_filenames_of_prominent_class,'../input/humpback-whale-identification/train/',filename_more_instance )",
      "execution_count": null,
      "outputs": []
    },
    {
      "metadata": {
        "_uuid": "6213825c5726cd53e43230111b534772fd371f31"
      },
      "cell_type": "markdown",
      "source": "**From discussion forum**"
    },
    {
      "metadata": {
        "trusted": true,
        "scrolled": true,
        "_uuid": "cb0ab8c4c33db20e85a41fd4ef0ec0e0886a757f"
      },
      "cell_type": "code",
      "source": "# Discussion post link : https://www.kaggle.com/c/humpback-whale-identification/discussion/73882\n# Discussion post Topic : Bad quality images\nlist_bad_images = ['0a5216ef5.jpg','0c0bf8fb8.jpg','0ce588f3d.jpg','0d0a1d2fb.jpg','0d7bd80d3.jpg','0d25e3354.jpg','0d605d56a.jpg','0d37648f9.jpg',\n                    '0d757866b.jpg','0db59bbec.jpg']\nprint(\"Number of bad files: %d\"%len(list_bad_images))\nprint(\"Plots for those files\")\nexploratory_analysis.image_subplot_from_list_filenames_and_dir(list_bad_images,'../input/humpback-whale-identification/train/','Bad_images')",
      "execution_count": null,
      "outputs": []
    },
    {
      "metadata": {
        "trusted": true,
        "_uuid": "19f87a58c391ed6048f3427882b924addee709cd"
      },
      "cell_type": "code",
      "source": "",
      "execution_count": null,
      "outputs": []
    }
  ],
  "metadata": {
    "kernelspec": {
      "display_name": "Python 3",
      "language": "python",
      "name": "python3"
    },
    "language_info": {
      "name": "python",
      "version": "3.6.6",
      "mimetype": "text/x-python",
      "codemirror_mode": {
        "name": "ipython",
        "version": 3
      },
      "pygments_lexer": "ipython3",
      "nbconvert_exporter": "python",
      "file_extension": ".py"
    }
  },
  "nbformat": 4,
  "nbformat_minor": 1
}